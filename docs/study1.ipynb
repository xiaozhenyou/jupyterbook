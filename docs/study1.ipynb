{
 "cells": [
  {
   "cell_type": "markdown",
   "source": [
    "# Common functional connectivity alterations in focal epilepsies identified by machine learning \n",
    "\n",
    "Here we includes interactive main findings of the feature weights"
   ],
   "metadata": {}
  },
  {
   "cell_type": "markdown",
   "source": [
    "## Figure 1\n",
    "\n",
    "Brief description of some regression analysis."
   ],
   "metadata": {}
  },
  {
   "cell_type": "code",
   "execution_count": null,
   "source": [
    "import numpy as np\n",
    "import matplotlib.pyplot as plt\n",
    "import seaborn as sns\n",
    "\n",
    "# set up data\n",
    "np.random.seed(2021)\n",
    "x0 = np.ones((250, 1))\n",
    "x1 = np.random.normal(loc=0,scale=1,size=(250,1))\n",
    "X = np.hstack((x0, x1))\n",
    "noise = np.random.normal(2, 3, (250,1)) \n",
    "y = .85 + 3.05 * x1 + noise\n",
    "\n",
    "sns.regplot(x=x1, y=y)\n",
    "plt.title(\"OLS Regression\")\n",
    "plt.show()"
   ],
   "outputs": [],
   "metadata": {}
  },
  {
   "cell_type": "markdown",
   "source": [
    "## Table 1\n",
    "Summary of regression results."
   ],
   "metadata": {}
  },
  {
   "cell_type": "code",
   "execution_count": null,
   "source": [
    "from scipy.stats import linregress\n",
    "\n",
    "slope, intercept, r, p, se = linregress(x1.flatten(), y.flatten())\n",
    "if p < .001:\n",
    "    p_val = 'p<.001'\n",
    "else:\n",
    "    p_val = f'p={p:.3f}'\n",
    "\n",
    "print(f'For every unit increase in x, the predicted value of y increases by {slope:.2f} units.')\n",
    "print(f'β1={slope:.2f}, SE={se:.2f}, {p_val}')"
   ],
   "outputs": [],
   "metadata": {}
  }
 ],
 "metadata": {
  "celltoolbar": "Edit Metadata",
  "kernelspec": {
   "name": "python3",
   "display_name": "Python 3.7.7 64-bit"
  },
  "language_info": {
   "codemirror_mode": {
    "name": "ipython",
    "version": 3
   },
   "file_extension": ".py",
   "mimetype": "text/x-python",
   "name": "python",
   "nbconvert_exporter": "python",
   "pygments_lexer": "ipython3",
   "version": "3.7.7"
  },
  "interpreter": {
   "hash": "4cd7ab41f5fca4b9b44701077e38c5ffd31fe66a6cab21e0214b68d958d0e462"
  }
 },
 "nbformat": 4,
 "nbformat_minor": 5
}