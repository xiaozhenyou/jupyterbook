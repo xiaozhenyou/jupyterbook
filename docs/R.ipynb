{
 "cells": [
  {
   "cell_type": "markdown",
   "source": [
    "# R Code\n",
    "\n",
    "This is a Jupyter Notebook with an R kernel."
   ],
   "metadata": {}
  },
  {
   "cell_type": "code",
   "execution_count": 1,
   "source": [
    "titanic <- read.csv(url(\"https://raw.githubusercontent.com/shawnrhoads/executable-book-template/main/docs/data/titanic.csv\"))\n",
    "print(head(titanic[2:5]))"
   ],
   "outputs": [
    {
     "output_type": "stream",
     "name": "stdout",
     "text": [
      "  survived pclass    sex age\n",
      "1        0      3   male  22\n",
      "2        1      1 female  38\n",
      "3        1      3 female  26\n",
      "4        1      1 female  35\n",
      "5        0      3   male  35\n",
      "6        0      3   male  NA\n"
     ]
    }
   ],
   "metadata": {}
  },
  {
   "cell_type": "code",
   "execution_count": 2,
   "source": [
    "x <- c(1,2,3,4,6,7,8,9)\n",
    "print(x)"
   ],
   "outputs": [
    {
     "output_type": "stream",
     "name": "stdout",
     "text": [
      "[1] 1 2 3 4 6 7 8 9\n"
     ]
    }
   ],
   "metadata": {}
  },
  {
   "cell_type": "markdown",
   "source": [
    "## Logistic Regression\n",
    "\n",
    "This is a logistic regression predicting survival of passengers.\n",
    "\n",
    "Independent variables:\n",
    "- age ($x1$)\n",
    "- sex ($x2$)\n",
    "- class ($x3$)\n",
    "\n",
    "Dependent variable:\n",
    "- survived ($y$)"
   ],
   "metadata": {}
  },
  {
   "cell_type": "code",
   "execution_count": 3,
   "source": [
    "logit_m <- glm(survived ~ age + sex + class, titanic, family=binomial(link=\"logit\"))"
   ],
   "outputs": [],
   "metadata": {}
  },
  {
   "cell_type": "code",
   "execution_count": 4,
   "source": [
    "summary(logit_m)"
   ],
   "outputs": [
    {
     "output_type": "display_data",
     "data": {
      "text/plain": [
       "\n",
       "Call:\n",
       "glm(formula = survived ~ age + sex + class, family = binomial(link = \"logit\"), \n",
       "    data = titanic)\n",
       "\n",
       "Deviance Residuals: \n",
       "    Min       1Q   Median       3Q      Max  \n",
       "-2.7303  -0.6780  -0.3953   0.6485   2.4657  \n",
       "\n",
       "Coefficients:\n",
       "             Estimate Std. Error z value Pr(>|z|)    \n",
       "(Intercept)  3.777013   0.401123   9.416  < 2e-16 ***\n",
       "age         -0.036985   0.007656  -4.831 1.36e-06 ***\n",
       "sexmale     -2.522781   0.207391 -12.164  < 2e-16 ***\n",
       "classSecond -1.309799   0.278066  -4.710 2.47e-06 ***\n",
       "classThird  -2.580625   0.281442  -9.169  < 2e-16 ***\n",
       "---\n",
       "Signif. codes:  0 ‘***’ 0.001 ‘**’ 0.01 ‘*’ 0.05 ‘.’ 0.1 ‘ ’ 1\n",
       "\n",
       "(Dispersion parameter for binomial family taken to be 1)\n",
       "\n",
       "    Null deviance: 964.52  on 713  degrees of freedom\n",
       "Residual deviance: 647.28  on 709  degrees of freedom\n",
       "  (177 observations deleted due to missingness)\n",
       "AIC: 657.28\n",
       "\n",
       "Number of Fisher Scoring iterations: 5\n"
      ]
     },
     "metadata": {}
    }
   ],
   "metadata": {}
  },
  {
   "cell_type": "markdown",
   "source": [
    "Age, sex, and class were all associated with probability of surviving"
   ],
   "metadata": {}
  },
  {
   "cell_type": "code",
   "execution_count": null,
   "source": [],
   "outputs": [],
   "metadata": {}
  }
 ],
 "metadata": {
  "kernelspec": {
   "display_name": "R",
   "language": "R",
   "name": "ir"
  },
  "language_info": {
   "codemirror_mode": "r",
   "file_extension": ".r",
   "mimetype": "text/x-r-source",
   "name": "R",
   "pygments_lexer": "r",
   "version": "4.1.1"
  }
 },
 "nbformat": 4,
 "nbformat_minor": 5
}
